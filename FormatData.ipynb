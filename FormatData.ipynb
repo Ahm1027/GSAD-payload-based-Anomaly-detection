{
 "cells": [
  {
   "cell_type": "code",
   "execution_count": 1,
   "metadata": {
    "collapsed": true
   },
   "outputs": [],
   "source": [
    "import pandas as pd\n",
    "from sklearn.feature_extraction.text import CountVectorizer, TfidfVectorizer\n",
    "from sklearn.utils import shuffle\n",
    "import numpy as np\n"
   ]
  },
  {
   "cell_type": "code",
   "execution_count": 2,
   "metadata": {},
   "outputs": [],
   "source": [
    "# CSIC Dataset\n",
    "\n",
    "df = pd.read_csv('http_requests.csv', sep=',', error_bad_lines=False, index_col=False, dtype='unicode')\n"
   ]
  },
  {
   "cell_type": "code",
   "execution_count": 3,
   "metadata": {
    "collapsed": true
   },
   "outputs": [],
   "source": [
    "# Shuffling of data and filling in na\n",
    "# Converting to string for use in CV\n",
    "\n",
    "df = shuffle(df)\n",
    "df['payload'] = df['payload'].fillna(0)\n",
    "df['payload'] = df['payload'].apply(lambda x: str(x))\n",
    "df.drop(columns=['index', 'method', 'url', 'protocol', 'userAgent', 'pragma', 'cacheControl', 'accept', 'acceptEncoding', 'acceptCharset', 'acceptLanguage', 'host', 'connection', 'contentLength', 'contentType', 'cookie'], inplace=True)\n"
   ]
  },
  {
   "cell_type": "code",
   "execution_count": 4,
   "metadata": {
    "collapsed": true
   },
   "outputs": [
    {
     "name": "stdout",
     "output_type": "stream",
     "text": [
      "                                  payload label\n154379                                  0  norm\n152717  email=daughtry%40thecupidhouse.az  norm\n150334                                  0  norm\n23639                        login=cluett  anom\n113923                provincia=Cantabria  anom\n"
     ]
    }
   ],
   "source": [
    "print(df.head())\n"
   ]
  },
  {
   "cell_type": "code",
   "execution_count": 5,
   "metadata": {},
   "outputs": [],
   "source": [
    "# Function to generate a 255 dim feature vector from 'payload'\n",
    "# Return a list of length 255 with features of payloads mapped to it\n",
    "# Each list index represents an ASCII character and value represents count\n",
    "# q = [4, 5, 2, 6, 12,  ....]\n",
    "\n",
    "\n",
    "def vectorize_payload(payload):\n",
    "    vec_255 = [0]*255\n",
    "    vectorizer = CountVectorizer(analyzer='char', ngram_range=(1, 1))\n",
    "    vectorized = vectorizer.fit_transform([payload])\n",
    "    mapped = list(zip(vectorizer.get_feature_names(), vectorized.sum(0).getA1()))\n",
    "    for x in mapped:\n",
    "        vec_255[ord(x[0])] = x[1]\n",
    "    return vec_255\n"
   ]
  },
  {
   "cell_type": "code",
   "execution_count": 6,
   "metadata": {
    "collapsed": true
   },
   "outputs": [
    {
     "data": {
      "text/plain": [
       "array([list([0, 0, 0, 0, 0, 0, 0, 0, 0, 0, 0, 0, 0, 0, 0, 0, 0, 0, 0, 0, 0, 0, 0, 0, 0, 0, 0, 0, 0, 0, 0, 0, 0, 0, 0, 0, 0, 0, 0, 0, 0, 0, 0, 0, 0, 0, 0, 0, 1, 0, 0, 0, 0, 0, 0, 0, 0, 0, 0, 0, 0, 0, 0, 0, 0, 0, 0, 0, 0, 0, 0, 0, 0, 0, 0, 0, 0, 0, 0, 0, 0, 0, 0, 0, 0, 0, 0, 0, 0, 0, 0, 0, 0, 0, 0, 0, 0, 0, 0, 0, 0, 0, 0, 0, 0, 0, 0, 0, 0, 0, 0, 0, 0, 0, 0, 0, 0, 0, 0, 0, 0, 0, 0, 0, 0, 0, 0, 0, 0, 0, 0, 0, 0, 0, 0, 0, 0, 0, 0, 0, 0, 0, 0, 0, 0, 0, 0, 0, 0, 0, 0, 0, 0, 0, 0, 0, 0, 0, 0, 0, 0, 0, 0, 0, 0, 0, 0, 0, 0, 0, 0, 0, 0, 0, 0, 0, 0, 0, 0, 0, 0, 0, 0, 0, 0, 0, 0, 0, 0, 0, 0, 0, 0, 0, 0, 0, 0, 0, 0, 0, 0, 0, 0, 0, 0, 0, 0, 0, 0, 0, 0, 0, 0, 0, 0, 0, 0, 0, 0, 0, 0, 0, 0, 0, 0, 0, 0, 0, 0, 0, 0, 0, 0, 0, 0, 0, 0, 0, 0, 0, 0, 0, 0, 0, 0, 0, 0, 0, 0, 0, 0, 0, 0, 0, 0]),\n       list([0, 0, 0, 0, 0, 0, 0, 0, 0, 0, 0, 0, 0, 0, 0, 0, 0, 0, 0, 0, 0, 0, 0, 0, 0, 0, 0, 0, 0, 0, 0, 0, 0, 0, 0, 0, 0, 1, 0, 0, 0, 0, 0, 0, 0, 0, 1, 0, 1, 0, 0, 0, 1, 0, 0, 0, 0, 0, 0, 0, 0, 1, 0, 0, 0, 0, 0, 0, 0, 0, 0, 0, 0, 0, 0, 0, 0, 0, 0, 0, 0, 0, 0, 0, 0, 0, 0, 0, 0, 0, 0, 0, 0, 0, 0, 0, 0, 3, 0, 1, 2, 3, 0, 1, 3, 2, 0, 0, 1, 1, 0, 1, 1, 0, 1, 1, 2, 3, 0, 0, 0, 1, 1, 0, 0, 0, 0, 0, 0, 0, 0, 0, 0, 0, 0, 0, 0, 0, 0, 0, 0, 0, 0, 0, 0, 0, 0, 0, 0, 0, 0, 0, 0, 0, 0, 0, 0, 0, 0, 0, 0, 0, 0, 0, 0, 0, 0, 0, 0, 0, 0, 0, 0, 0, 0, 0, 0, 0, 0, 0, 0, 0, 0, 0, 0, 0, 0, 0, 0, 0, 0, 0, 0, 0, 0, 0, 0, 0, 0, 0, 0, 0, 0, 0, 0, 0, 0, 0, 0, 0, 0, 0, 0, 0, 0, 0, 0, 0, 0, 0, 0, 0, 0, 0, 0, 0, 0, 0, 0, 0, 0, 0, 0, 0, 0, 0, 0, 0, 0, 0, 0, 0, 0, 0, 0, 0, 0, 0, 0, 0, 0, 0, 0, 0, 0]),\n       list([0, 0, 0, 0, 0, 0, 0, 0, 0, 0, 0, 0, 0, 0, 0, 0, 0, 0, 0, 0, 0, 0, 0, 0, 0, 0, 0, 0, 0, 0, 0, 0, 0, 0, 0, 0, 0, 0, 0, 0, 0, 0, 0, 0, 0, 0, 0, 0, 1, 0, 0, 0, 0, 0, 0, 0, 0, 0, 0, 0, 0, 0, 0, 0, 0, 0, 0, 0, 0, 0, 0, 0, 0, 0, 0, 0, 0, 0, 0, 0, 0, 0, 0, 0, 0, 0, 0, 0, 0, 0, 0, 0, 0, 0, 0, 0, 0, 0, 0, 0, 0, 0, 0, 0, 0, 0, 0, 0, 0, 0, 0, 0, 0, 0, 0, 0, 0, 0, 0, 0, 0, 0, 0, 0, 0, 0, 0, 0, 0, 0, 0, 0, 0, 0, 0, 0, 0, 0, 0, 0, 0, 0, 0, 0, 0, 0, 0, 0, 0, 0, 0, 0, 0, 0, 0, 0, 0, 0, 0, 0, 0, 0, 0, 0, 0, 0, 0, 0, 0, 0, 0, 0, 0, 0, 0, 0, 0, 0, 0, 0, 0, 0, 0, 0, 0, 0, 0, 0, 0, 0, 0, 0, 0, 0, 0, 0, 0, 0, 0, 0, 0, 0, 0, 0, 0, 0, 0, 0, 0, 0, 0, 0, 0, 0, 0, 0, 0, 0, 0, 0, 0, 0, 0, 0, 0, 0, 0, 0, 0, 0, 0, 0, 0, 0, 0, 0, 0, 0, 0, 0, 0, 0, 0, 0, 0, 0, 0, 0, 0, 0, 0, 0, 0, 0, 0]),\n       ...,\n       list([0, 0, 0, 0, 0, 0, 0, 0, 0, 0, 0, 0, 0, 0, 0, 0, 0, 0, 0, 0, 0, 0, 0, 0, 0, 0, 0, 0, 0, 0, 0, 0, 0, 0, 0, 0, 0, 0, 0, 0, 0, 0, 0, 1, 0, 0, 0, 0, 0, 0, 0, 0, 0, 0, 0, 0, 0, 0, 0, 0, 0, 1, 0, 0, 0, 0, 0, 0, 0, 0, 0, 0, 0, 0, 0, 0, 0, 0, 0, 0, 0, 0, 0, 0, 0, 0, 0, 0, 0, 0, 0, 0, 0, 0, 0, 0, 0, 2, 0, 1, 2, 2, 0, 0, 0, 2, 0, 0, 3, 1, 1, 4, 1, 0, 2, 1, 2, 0, 0, 0, 0, 0, 0, 0, 0, 0, 0, 0, 0, 0, 0, 0, 0, 0, 0, 0, 0, 0, 0, 0, 0, 0, 0, 0, 0, 0, 0, 0, 0, 0, 0, 0, 0, 0, 0, 0, 0, 0, 0, 0, 0, 0, 0, 0, 0, 0, 0, 0, 0, 0, 0, 0, 0, 0, 0, 0, 0, 0, 0, 0, 0, 0, 0, 0, 0, 0, 0, 0, 0, 0, 0, 0, 0, 0, 0, 0, 0, 0, 0, 0, 0, 0, 0, 0, 0, 0, 0, 0, 0, 0, 0, 0, 0, 0, 0, 0, 0, 0, 0, 0, 0, 0, 0, 0, 0, 0, 0, 0, 0, 0, 0, 0, 0, 0, 0, 0, 0, 0, 0, 0, 0, 0, 0, 0, 0, 0, 0, 0, 0, 0, 0, 0, 0, 0, 0]),\n       list([0, 0, 0, 0, 0, 0, 0, 0, 0, 0, 0, 0, 0, 0, 0, 0, 0, 0, 0, 0, 0, 0, 0, 0, 0, 0, 0, 0, 0, 0, 0, 0, 0, 0, 0, 0, 0, 1, 0, 0, 0, 0, 0, 0, 0, 0, 1, 0, 1, 0, 0, 0, 1, 0, 0, 0, 0, 0, 0, 0, 0, 1, 0, 0, 0, 0, 0, 0, 0, 0, 0, 0, 0, 0, 0, 0, 0, 0, 0, 0, 0, 0, 0, 0, 0, 0, 0, 0, 0, 0, 0, 0, 0, 0, 0, 0, 0, 3, 0, 0, 1, 4, 1, 1, 0, 1, 0, 0, 2, 1, 3, 4, 1, 0, 3, 1, 2, 0, 0, 0, 0, 0, 0, 0, 0, 0, 0, 0, 0, 0, 0, 0, 0, 0, 0, 0, 0, 0, 0, 0, 0, 0, 0, 0, 0, 0, 0, 0, 0, 0, 0, 0, 0, 0, 0, 0, 0, 0, 0, 0, 0, 0, 0, 0, 0, 0, 0, 0, 0, 0, 0, 0, 0, 0, 0, 0, 0, 0, 0, 0, 0, 0, 0, 0, 0, 0, 0, 0, 0, 0, 0, 0, 0, 0, 0, 0, 0, 0, 0, 0, 0, 0, 0, 0, 0, 0, 0, 0, 0, 0, 0, 0, 0, 0, 0, 0, 0, 0, 0, 0, 0, 0, 0, 0, 0, 0, 0, 0, 0, 0, 0, 0, 0, 0, 0, 0, 0, 0, 0, 0, 0, 0, 0, 0, 0, 0, 0, 0, 0, 0, 0, 0, 0, 0, 0]),\n       list([0, 0, 0, 0, 0, 0, 0, 0, 0, 0, 0, 0, 0, 0, 0, 0, 0, 0, 0, 0, 0, 0, 0, 0, 0, 0, 0, 0, 0, 0, 0, 0, 0, 0, 0, 0, 0, 0, 0, 0, 0, 0, 0, 0, 0, 0, 0, 0, 0, 1, 0, 0, 0, 0, 0, 0, 0, 0, 0, 0, 0, 1, 0, 0, 0, 0, 0, 0, 0, 0, 0, 0, 0, 0, 0, 0, 0, 0, 0, 0, 0, 0, 0, 0, 0, 0, 0, 0, 0, 0, 0, 0, 0, 0, 0, 0, 0, 2, 1, 0, 0, 1, 0, 0, 0, 0, 0, 0, 0, 0, 1, 0, 0, 0, 2, 0, 1, 0, 0, 0, 0, 0, 0, 0, 0, 0, 0, 0, 0, 0, 0, 0, 0, 0, 0, 0, 0, 0, 0, 0, 0, 0, 0, 0, 0, 0, 0, 0, 0, 0, 0, 0, 0, 0, 0, 0, 0, 0, 0, 0, 0, 0, 0, 0, 0, 0, 0, 0, 0, 0, 0, 0, 0, 0, 0, 0, 0, 0, 0, 0, 0, 0, 0, 0, 0, 0, 0, 0, 0, 0, 0, 0, 0, 0, 0, 0, 0, 0, 0, 0, 0, 0, 0, 0, 0, 0, 0, 0, 0, 0, 0, 0, 0, 0, 0, 0, 0, 0, 0, 0, 0, 0, 0, 0, 0, 0, 0, 0, 0, 0, 0, 0, 0, 0, 0, 0, 0, 0, 0, 0, 0, 0, 0, 0, 0, 0, 0, 0, 0, 0, 0, 0, 0, 0, 0])],\n      dtype=object)"
      ]
     },
     "execution_count": 6,
     "metadata": {},
     "output_type": "execute_result"
    }
   ],
   "source": [
    "# conversion to 256 dimensional vector\n",
    "vectors = np.array(df['payload'].apply(lambda x: vectorize_payload(x)))\n",
    "vectors\n"
   ]
  },
  {
   "cell_type": "code",
   "execution_count": 7,
   "metadata": {},
   "outputs": [
    {
     "name": "stdout",
     "output_type": "stream",
     "text": [
      "1788680 bytes\n"
     ]
    }
   ],
   "source": [
    "print(\"%d bytes\" % (vectors.size * vectors.itemsize))\n"
   ]
  },
  {
   "cell_type": "code",
   "execution_count": 8,
   "metadata": {},
   "outputs": [],
   "source": [
    "# Function to generate frequency for 255 dim feature vectors\n",
    "# Return a list of length 255 with feature frequencies\n",
    "# Each list index represents an ASCII character and value represents its frequency\n",
    "# q = [0.23, 0, 0, 0.03, 0.42,  ....] = 1\n",
    "\n",
    "\n",
    "def calc_frequency(payloads_vectors):\n",
    "    features_total = 0\n",
    "    for feature in payloads_vectors:\n",
    "        features_total += feature\n",
    "    features_total *= 1.0\n",
    "    payloads_vectors = [(x/features_total) for x in payloads_vectors]\n",
    "    return np.array(payloads_vectors, dtype=np.float16)\n",
    "\n",
    "\n",
    "results = [calc_frequency(x) for x in vectors]\n",
    "features_frequency = np.vstack(results)\n",
    "del results\n"
   ]
  },
  {
   "cell_type": "code",
   "execution_count": 9,
   "metadata": {
    "collapsed": true
   },
   "outputs": [],
   "source": [
    "# Function to generate mean vector for n payloads\n",
    "# Assuming data set has traffic of n packets\n",
    "# Return a list of length 255 with mean for every 255 features from payload vectors\n",
    "# x' = [2.3, 3.1, 2.23, 7.5, 12.2,  ....]\n",
    "\n",
    "\n",
    "def calc_mean(frequency_vectors):\n",
    "    # TOTAL_PACKETS = len(vectors)\n",
    "    # compiled = [0.0]*255\n",
    "    # for x in frequency_vectors:\n",
    "    #     compiled = list(map(sum, zip(compiled, x)))\n",
    "    # return np.array([x/(TOTAL_PACKETS*1.0) for x in compiled], dtype=np.float16)\n",
    "    return np.mean(frequency_vectors, axis=0)\n",
    "\n",
    "\n",
    "features_mean = calc_mean(features_frequency)\n"
   ]
  },
  {
   "cell_type": "code",
   "execution_count": 10,
   "metadata": {
    "collapsed": true
   },
   "outputs": [],
   "source": [
    "# Function to generate sd vector for n payloads\n",
    "# Assuming data set has traffic of n packets\n",
    "# Return a list of length 255 with sd for every 255 features from payload vectors\n",
    "# x' = [2.3, 3.1, 2.23, 7.5, 12.2,  ....]\n",
    "\n",
    "\n",
    "def calc_sd(features_frequency):\n",
    "    return np.std(features_frequency, axis=0)\n",
    "\n",
    "\n",
    "features_sd = calc_sd(features_frequency)\n"
   ]
  },
  {
   "cell_type": "code",
   "execution_count": 11,
   "metadata": {
    "collapsed": true
   },
   "outputs": [],
   "source": [
    "def calc_covariance():\n",
    "    return np.square(features_sd)\n",
    "\n",
    "\n",
    "covariances = np.array(calc_covariance(), dtype=np.float16)\n"
   ]
  },
  {
   "cell_type": "code",
   "execution_count": 12,
   "metadata": {
    "collapsed": true
   },
   "outputs": [],
   "source": [
    "def calc_mahalanobis_dist(feature_x1, feature_x2, cov_x1, cov_x2):\n",
    "    feature_diff = feature_x1-feature_x2\n",
    "    feature_diff = feature_diff*np.transpose(feature_diff)\n",
    "    if cov_x1+cov_x2 == 0:\n",
    "        return 0\n",
    "    return feature_diff/(cov_x1+cov_x2)\n"
   ]
  },
  {
   "cell_type": "code",
   "execution_count": 24,
   "metadata": {
    "collapsed": true
   },
   "outputs": [
    {
     "name": "stdout",
     "output_type": "stream",
     "text": [
      "F1: 0.000000, F2: 0.000000\nF1: 0.000000, F2: 0.000000\nF1: 0.000000, F2: 0.000000\nF1: 0.000000, F2: 0.000000\nF1: 0.000000, F2: 0.000000\nF1: 0.000000, F2: 0.000000\nF1: 0.000000, F2: 0.000000\nF1: 0.000000, F2: 0.000000\nF1: 0.000000, F2: 0.000000\nF1: 0.000000, F2: 0.000000\nF1: 0.000000, F2: 0.000000\nF1: 0.000000, F2: 0.000000\nF1: 0.000000, F2: 0.000000\nF1: 0.000000, F2: 0.000000\nF1: 0.000000, F2: 0.000000\nF1: 0.000000, F2: 0.000000\nF1: 0.000000, F2: 0.000000\nF1: 0.000000, F2: 0.000000\nF1: 0.000000, F2: 0.000000\nF1: 0.000000, F2: 0.000000\nF1: 0.000000, F2: 0.000000\nF1: 0.000000, F2: 0.000000\nF1: 0.000000, F2: 0.000000\nF1: 0.000000, F2: 0.000000\nF1: 0.000000, F2: 0.000000\nF1: 0.000000, F2: 0.000000\nF1: 0.000000, F2: 0.000000\nF1: 0.000000, F2: 0.000000\nF1: 0.000000, F2: 0.000000\nF1: 0.000000, F2: 0.000000\nF1: 0.000000, F2: 0.000000\nF1: 0.000000, F2: 0.000000\nF1: 0.000000, F2: 0.000000\nF1: 0.000000, F2: 0.000000\nF1: 0.000000, F2: 0.000000\nF1: 0.000000, F2: 0.000000\nF1: 0.000000, F2: 0.000000\nF1: 0.030304, F2: 0.000000\nF1: 0.000000, F2: 0.000000\nF1: 0.000000, F2: 0.000000\nF1: 0.000000, F2: 0.000000\nF1: 0.000000, F2: 0.000000\nF1: 0.000000, F2: 0.000000\nF1: 0.000000, F2: 0.000000\nF1: 0.000000, F2: 0.000000\nF1: 0.000000, F2: 0.000000\nF1: 0.030304, F2: 0.000000\nF1: 0.000000, F2: 0.000000\nF1: 0.030304, F2: 0.000000\nF1: 0.000000, F2: 0.000000\nF1: 0.000000, F2: 0.000000\nF1: 0.000000, F2: 0.000000\nF1: 0.030304, F2: 0.000000\nF1: 0.000000, F2: 0.000000\nF1: 0.000000, F2: 0.000000\nF1: 0.000000, F2: 0.000000\nF1: 0.000000, F2: 0.000000\nF1: 0.000000, F2: 0.000000\nF1: 0.000000, F2: 0.000000\nF1: 0.000000, F2: 0.000000\nF1: 0.000000, F2: 0.000000\nF1: 0.030304, F2: 0.000000\nF1: 0.000000, F2: 0.000000\nF1: 0.000000, F2: 0.000000\nF1: 0.000000, F2: 0.000000\nF1: 0.000000, F2: 0.000000\nF1: 0.000000, F2: 0.000000\nF1: 0.000000, F2: 0.000000\nF1: 0.000000, F2: 0.000000\nF1: 0.000000, F2: 0.000000\nF1: 0.000000, F2: 0.000000\nF1: 0.000000, F2: 0.000000\nF1: 0.000000, F2: 0.000000\nF1: 0.000000, F2: 0.000000\nF1: 0.000000, F2: 0.000000\nF1: 0.000000, F2: 0.000000\nF1: 0.000000, F2: 0.000000\nF1: 0.000000, F2: 0.000000\nF1: 0.000000, F2: 0.000000\nF1: 0.000000, F2: 0.000000\nF1: 0.000000, F2: 0.000000\nF1: 0.000000, F2: 0.000000\nF1: 0.000000, F2: 0.000000\nF1: 0.000000, F2: 0.000000\nF1: 0.000000, F2: 0.000000\nF1: 0.000000, F2: 0.000000\nF1: 0.000000, F2: 0.000000\nF1: 0.000000, F2: 0.000000\nF1: 0.000000, F2: 0.000000\nF1: 0.000000, F2: 0.000000\nF1: 0.000000, F2: 0.000000\nF1: 0.000000, F2: 0.000000\nF1: 0.000000, F2: 0.000000\nF1: 0.000000, F2: 0.000000\nF1: 0.000000, F2: 0.000000\nF1: 0.000000, F2: 0.000000\nF1: 0.000000, F2: 0.000000\nF1: 0.090881, F2: 0.000000\nF1: 0.000000, F2: 0.000000\nF1: 0.030304, F2: 0.000000\nF1: 0.060608, F2: 0.000000\nF1: 0.090881, F2: 0.000000\nF1: 0.000000, F2: 0.000000\nF1: 0.030304, F2: 0.000000\nF1: 0.090881, F2: 0.000000\nF1: 0.060608, F2: 0.000000\nF1: 0.000000, F2: 0.000000\nF1: 0.000000, F2: 0.000000\nF1: 0.030304, F2: 0.000000\nF1: 0.030304, F2: 0.000000\nF1: 0.000000, F2: 0.000000\nF1: 0.030304, F2: 0.000000\nF1: 0.030304, F2: 0.000000\nF1: 0.000000, F2: 0.000000\nF1: 0.030304, F2: 0.000000\nF1: 0.030304, F2: 0.000000\nF1: 0.060608, F2: 0.000000\nF1: 0.090881, F2: 0.000000\nF1: 0.000000, F2: 0.000000\nF1: 0.000000, F2: 0.000000\nF1: 0.000000, F2: 0.000000\nF1: 0.030304, F2: 0.000000\nF1: 0.030304, F2: 0.000000\nF1: 0.000000, F2: 0.000000\n"
     ]
    },
    {
     "name": "stdout",
     "output_type": "stream",
     "text": [
      "F1: 0.000000, F2: 0.000000\nF1: 0.000000, F2: 0.000000\nF1: 0.000000, F2: 0.000000\nF1: 0.000000, F2: 0.000000\nF1: 0.000000, F2: 0.000000\nF1: 0.000000, F2: 0.000000\nF1: 0.000000, F2: 0.000000\nF1: 0.000000, F2: 0.000000\nF1: 0.000000, F2: 0.000000\nF1: 0.000000, F2: 0.000000\nF1: 0.000000, F2: 0.000000\nF1: 0.000000, F2: 0.000000\nF1: 0.000000, F2: 0.000000\nF1: 0.000000, F2: 0.000000\nF1: 0.000000, F2: 0.000000\nF1: 0.000000, F2: 0.000000\nF1: 0.000000, F2: 0.000000\nF1: 0.000000, F2: 0.000000\nF1: 0.000000, F2: 0.000000\nF1: 0.000000, F2: 0.000000\nF1: 0.000000, F2: 0.000000\nF1: 0.000000, F2: 0.000000\nF1: 0.000000, F2: 0.000000\nF1: 0.000000, F2: 0.000000\nF1: 0.000000, F2: 0.000000\nF1: 0.000000, F2: 0.000000\nF1: 0.000000, F2: 0.000000\nF1: 0.000000, F2: 0.000000\nF1: 0.000000, F2: 0.000000\nF1: 0.000000, F2: 0.000000\nF1: 0.000000, F2: 0.000000\nF1: 0.000000, F2: 0.000000\nF1: 0.000000, F2: 0.000000\nF1: 0.000000, F2: 0.000000\nF1: 0.000000, F2: 0.000000\nF1: 0.000000, F2: 0.000000\nF1: 0.000000, F2: 0.000000\nF1: 0.000000, F2: 0.000000\nF1: 0.000000, F2: 0.000000\nF1: 0.000000, F2: 0.000000\nF1: 0.000000, F2: 0.000000\nF1: 0.000000, F2: 0.000000\nF1: 0.000000, F2: 0.000000\nF1: 0.000000, F2: 0.000000\nF1: 0.000000, F2: 0.000000\nF1: 0.000000, F2: 0.000000\nF1: 0.000000, F2: 0.000000\nF1: 0.000000, F2: 0.000000\nF1: 0.000000, F2: 0.000000\nF1: 0.000000, F2: 0.000000\nF1: 0.000000, F2: 0.000000\nF1: 0.000000, F2: 0.000000\nF1: 0.000000, F2: 0.000000\nF1: 0.000000, F2: 0.000000\nF1: 0.000000, F2: 0.000000\nF1: 0.000000, F2: 0.000000\nF1: 0.000000, F2: 0.000000\nF1: 0.000000, F2: 0.000000\nF1: 0.000000, F2: 0.000000\nF1: 0.000000, F2: 0.000000\nF1: 0.000000, F2: 0.000000\nF1: 0.000000, F2: 0.000000\nF1: 0.000000, F2: 0.000000\nF1: 0.000000, F2: 0.000000\nF1: 0.000000, F2: 0.000000\nF1: 0.000000, F2: 0.000000\nF1: 0.000000, F2: 0.000000\nF1: 0.000000, F2: 0.000000\nF1: 0.000000, F2: 0.000000\nF1: 0.000000, F2: 0.000000\nF1: 0.000000, F2: 0.000000\nF1: 0.000000, F2: 0.000000\nF1: 0.000000, F2: 0.000000\nF1: 0.000000, F2: 0.000000\nF1: 0.000000, F2: 0.000000\nF1: 0.000000, F2: 0.000000\nF1: 0.000000, F2: 0.000000\nF1: 0.000000, F2: 0.000000\nF1: 0.000000, F2: 0.000000\nF1: 0.000000, F2: 0.000000\nF1: 0.000000, F2: 0.000000\nF1: 0.000000, F2: 0.000000\nF1: 0.000000, F2: 0.000000\nF1: 0.000000, F2: 0.000000\nF1: 0.000000, F2: 0.000000\nF1: 0.000000, F2: 0.000000\nF1: 0.000000, F2: 0.000000\nF1: 0.000000, F2: 0.000000\nF1: 0.000000, F2: 0.000000\nF1: 0.000000, F2: 0.000000\nF1: 0.000000, F2: 0.000000\nF1: 0.000000, F2: 0.000000\nF1: 0.000000, F2: 0.000000\nF1: 0.000000, F2: 0.000000\nF1: 0.000000, F2: 0.000000\nF1: 0.000000, F2: 0.000000\nF1: 0.000000, F2: 0.000000\nF1: 0.000000, F2: 0.000000\nF1: 0.000000, F2: 0.000000\nF1: 0.000000, F2: 0.000000\nF1: 0.000000, F2: 0.000000\nF1: 0.000000, F2: 0.000000\nF1: 0.000000, F2: 0.000000\nF1: 0.000000, F2: 0.000000\nF1: 0.000000, F2: 0.000000\nF1: 0.000000, F2: 0.000000\nF1: 0.000000, F2: 0.000000\nF1: 0.000000, F2: 0.000000\nF1: 0.000000, F2: 0.000000\nF1: 0.000000, F2: 0.000000\nF1: 0.000000, F2: 0.000000\n"
     ]
    },
    {
     "name": "stdout",
     "output_type": "stream",
     "text": [
      "F1: 0.000000, F2: 0.000000\nF1: 0.000000, F2: 0.000000\nF1: 0.000000, F2: 0.000000\nF1: 0.000000, F2: 0.000000\nF1: 0.000000, F2: 0.000000\nF1: 0.000000, F2: 0.000000\nF1: 0.000000, F2: 0.000000\nF1: 0.000000, F2: 0.000000\nF1: 0.000000, F2: 0.000000\nF1: 0.000000, F2: 0.000000\nF1: 0.000000, F2: 0.000000\nF1: 0.000000, F2: 0.000000\nF1: 0.000000, F2: 0.000000\nF1: 0.000000, F2: 0.000000\nF1: 0.000000, F2: 0.000000\nF1: 0.000000, F2: 0.000000\nF1: 0.000000, F2: 0.000000\nF1: 0.000000, F2: 0.000000\nF1: 0.000000, F2: 0.000000\nF1: 0.000000, F2: 0.000000\nCompleted...\n"
     ]
    }
   ],
   "source": [
    "def construct_mdm(features):\n",
    "    mdm = []\n",
    "    for index, feature1 in enumerate(features):\n",
    "        feature_map = []\n",
    "        for index2, feature2 in enumerate(features):\n",
    "            feature_map.append(calc_mahalanobis_dist(feature1, feature2, covariances[index], covariances[index2]))\n",
    "        mdm.append(feature_map)\n",
    "    print(\"Completed...\")\n",
    "    return np.array(mdm)\n",
    "\n",
    "\n",
    "payload_map = np.array([construct_mdm(x) for x in features_frequency[1:2]])\n"
   ]
  },
  {
   "cell_type": "code",
   "execution_count": 13,
   "metadata": {},
   "outputs": [
    {
     "name": "stdout",
     "output_type": "stream",
     "text": [
      "Feature Frequency arr size: 114028350 bytes\n"
     ]
    }
   ],
   "source": [
    "print(\"Feature Frequency arr size: %d bytes\" % (features_frequency.size * features_frequency.itemsize))\n"
   ]
  },
  {
   "cell_type": "code",
   "execution_count": 14,
   "metadata": {},
   "outputs": [
    {
     "name": "stdout",
     "output_type": "stream",
     "text": [
      "Features mean arr size: 510 bytes\n"
     ]
    }
   ],
   "source": [
    "print(\"Features mean arr size: %d bytes\" % (features_mean.size * features_mean.itemsize))\n"
   ]
  },
  {
   "cell_type": "code",
   "execution_count": 15,
   "metadata": {},
   "outputs": [
    {
     "name": "stdout",
     "output_type": "stream",
     "text": [
      "Feature SD arr size: 510 bytes\n"
     ]
    }
   ],
   "source": [
    "print(\"Feature SD arr size: %d bytes\" % (features_sd.size * features_sd.itemsize))\n"
   ]
  },
  {
   "cell_type": "code",
   "execution_count": null,
   "metadata": {},
   "outputs": [],
   "source": [
    "print(\"Covariances arr size: %d bytes\" % (covariances.size * covariances.itemsize))\n"
   ]
  },
  {
   "cell_type": "code",
   "execution_count": null,
   "metadata": {
    "collapsed": true
   },
   "outputs": [],
   "source": [
    "for x in payload_map:\n",
    "    print(x.shape)\n",
    "\n",
    "\n"
   ]
  },
  {
   "cell_type": "code",
   "execution_count": null,
   "metadata": {},
   "outputs": [],
   "source": []
  }
 ],
 "metadata": {
  "kernelspec": {
   "display_name": "Python 2",
   "language": "python",
   "name": "python2"
  },
  "language_info": {
   "codemirror_mode": {
    "name": "ipython",
    "version": 2
   },
   "file_extension": ".py",
   "mimetype": "text/x-python",
   "name": "python",
   "nbconvert_exporter": "python",
   "pygments_lexer": "ipython2",
   "version": "2.7.6"
  }
 },
 "nbformat": 4,
 "nbformat_minor": 0
}
