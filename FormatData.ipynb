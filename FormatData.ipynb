{
 "cells": [
  {
   "cell_type": "code",
   "execution_count": 1,
   "metadata": {
    "collapsed": true
   },
   "outputs": [],
   "source": [
    "import pandas as pd\n",
    "from sklearn.feature_extraction.text import CountVectorizer, TfidfVectorizer\n",
    "from sklearn.utils import shuffle\n",
    "import numpy as np\n"
   ]
  },
  {
   "cell_type": "code",
   "execution_count": 3,
   "metadata": {},
   "outputs": [],
   "source": [
    "# CSIC Dataset\n",
    "\n",
    "df = pd.read_csv('http_requests.csv', sep=',', error_bad_lines=False, index_col=False, dtype='unicode')\n"
   ]
  },
  {
   "cell_type": "code",
   "execution_count": 4,
   "metadata": {
    "collapsed": true
   },
   "outputs": [],
   "source": [
    "# Shuffling of data and filling in na\n",
    "# Converting to string for use in CV\n",
    "\n",
    "df = shuffle(df)\n",
    "df['payload'] = df['payload'].fillna(0)\n",
    "df['payload'] = df['payload'].apply(lambda x: str(x))\n",
    "df.drop(columns=['index', 'method', 'url', 'protocol', 'userAgent', 'pragma', 'cacheControl', 'accept', 'acceptEncoding', 'acceptCharset', 'acceptLanguage', 'host', 'connection', 'contentLength', 'contentType', 'cookie'], inplace=True)\n"
   ]
  },
  {
   "cell_type": "code",
   "execution_count": 5,
   "metadata": {
    "collapsed": true
   },
   "outputs": [
    {
     "name": "stdout",
     "output_type": "stream",
     "text": [
      "                         payload label\n123387             login=dueppen  norm\n190256  apellidos=Ozoa+Cadaveira  norm\n84769           nombre=Melit%F3n  anom\n30226               B1=Registrar  anom\n216092          provincia=Huesca  norm\n"
     ]
    }
   ],
   "source": [
    "print(df.head())\n"
   ]
  },
  {
   "cell_type": "code",
   "execution_count": 6,
   "metadata": {},
   "outputs": [],
   "source": [
    "# Function to generate a 255 dim feature vector from 'payload'\n",
    "# Return a list of length 255 with features of payloads mapped to it\n",
    "# Each list index represents an ASCII character and value represents count\n",
    "# q = [4, 5, 2, 6, 12,  ....]\n",
    "\n",
    "\n",
    "def vectorize_payload(payload):\n",
    "    vec_255 = [0]*255\n",
    "    vectorizer = CountVectorizer(analyzer='char', ngram_range=(1, 1))\n",
    "    vectorized = vectorizer.fit_transform([payload])\n",
    "    mapped = list(zip(vectorizer.get_feature_names(), vectorized.sum(0).getA1()))\n",
    "    for x in mapped:\n",
    "        vec_255[ord(x[0])] = x[1]\n",
    "    return vec_255\n"
   ]
  },
  {
   "cell_type": "code",
   "execution_count": 7,
   "metadata": {
    "collapsed": false
   },
   "outputs": [],
   "source": [
    "# conversion to 256 dimensional vector\n",
    "vectors = np.array(df['payload'].apply(lambda x: vectorize_payload(x)))\n",
    "vectors\n"
   ]
  },
  {
   "cell_type": "code",
   "execution_count": 9,
   "metadata": {},
   "outputs": [
    {
     "name": "stdout",
     "output_type": "stream",
     "text": [
      "1788680 bytes\n"
     ]
    }
   ],
   "source": [
    "print(\"%d bytes\" % (vectors.size * vectors.itemsize))\n"
   ]
  },
  {
   "cell_type": "code",
   "execution_count": 10,
   "metadata": {},
   "outputs": [],
   "source": [
    "# Function to generate frequency for 255 dim feature vectors\n",
    "# Return a list of length 255 with feature frequencies\n",
    "# Each list index represents an ASCII character and value represents its frequency\n",
    "# q = [0.23, 0, 0, 0.03, 0.42,  ....] = 1\n",
    "\n",
    "\n",
    "def calc_frequency(payloads_vectors):\n",
    "    features_total = 0\n",
    "    for feature in payloads_vectors:\n",
    "        features_total += feature\n",
    "    features_total *= 1.0\n",
    "    payloads_vectors = [(x/features_total) for x in payloads_vectors]\n",
    "    return payloads_vectors\n",
    "\n",
    "\n",
    "features_frequency = []\n",
    "for x in vectors:\n",
    "    features_frequency.append(calc_frequency(x))\n"
   ]
  },
  {
   "cell_type": "code",
   "execution_count": 18,
   "metadata": {
    "collapsed": true
   },
   "outputs": [],
   "source": [
    "# Function to generate mean vector for n payloads\n",
    "# Assuming data set has traffic of n packets\n",
    "# Return a list of length 255 with mean for every 255 features from payload vectors\n",
    "# x' = [2.3, 3.1, 2.23, 7.5, 12.2,  ....]\n",
    "\n",
    "\n",
    "def calc_mean(frequency_vectors):\n",
    "    TOTAL_PACKETS = 223585\n",
    "    compiled = [0.0]*255\n",
    "    for x in frequency_vectors:\n",
    "        compiled = list(map(sum, zip(compiled, x)))\n",
    "    return [x/TOTAL_PACKETS for x in compiled]\n",
    "\n",
    "features_mean = calc_mean(features_frequency)\n"
   ]
  },
  {
   "cell_type": "code",
   "execution_count": null,
   "metadata": {
    "collapsed": true
   },
   "outputs": [],
   "source": [
    "features_frequency = np.array(features_frequency)\n",
    "print(\"%d bytes\" % (features_frequency.size * features_frequency.itemsize))\n"
   ]
  },
  {
   "cell_type": "code",
   "execution_count": null,
   "metadata": {
    "collapsed": false
   },
   "outputs": [],
   "source": [
    "features_mean\n"
   ]
  }
 ],
 "metadata": {
  "kernelspec": {
   "display_name": "Python 2",
   "language": "python",
   "name": "python2"
  },
  "language_info": {
   "codemirror_mode": {
    "name": "ipython",
    "version": 2
   },
   "file_extension": ".py",
   "mimetype": "text/x-python",
   "name": "python",
   "nbconvert_exporter": "python",
   "pygments_lexer": "ipython2",
   "version": "2.7.6"
  }
 },
 "nbformat": 4,
 "nbformat_minor": 0
}
