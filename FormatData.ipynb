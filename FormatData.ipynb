{
 "cells": [
  {
   "cell_type": "code",
   "execution_count": 2,
   "metadata": {
    "collapsed": true
   },
   "outputs": [],
   "source": [
    "import pandas as pd\n",
    "from sklearn.feature_extraction.text import CountVectorizer, TfidfVectorizer\n",
    "from sklearn.utils import shuffle"
   ]
  },
  {
   "cell_type": "code",
   "execution_count": 3,
   "metadata": {},
   "outputs": [
    {
     "name": "stderr",
     "output_type": "stream",
     "text": [
      "C:\\Users\\AHMED NAVEED ASIF\\AppData\\Roaming\\Python\\Python37\\site-packages\\IPython\\core\\interactiveshell.py:3063: DtypeWarning: Columns (14) have mixed types.Specify dtype option on import or set low_memory=False.\n  interactivity=interactivity, compiler=compiler, result=result)\n"
     ]
    }
   ],
   "source": [
    "df = pd.read_csv('http_requests.csv')"
   ]
  },
  {
   "cell_type": "code",
   "execution_count": 4,
   "metadata": {},
   "outputs": [],
   "source": [
    "payloads = df['payload']\n",
    "payloads.rename({'0': 'index', '1': 'payloads'})\n",
    "payloads = pd.DataFrame(shuffle(payloads))\n",
    "payloads['payload'] = payloads['payload'].fillna(0)\n",
    "payloads['payload'] = payloads['payload'].apply(lambda x: str(x))"
   ]
  },
  {
   "cell_type": "code",
   "execution_count": 9,
   "metadata": {},
   "outputs": [],
   "source": [
    "def vectorize(payload):\n",
    "    vectorizer = CountVectorizer(analyzer='char', ngram_range=(1, 1))\n",
    "    vectorized = vectorizer.fit_transform([payload])\n",
    "    return vectorizer.vocabulary_, vectorized.toarray()\n"
   ]
  },
  {
   "cell_type": "code",
   "execution_count": 10,
   "metadata": {},
   "outputs": [],
   "source": [
    "# conversion to 256 dimensional vector\n",
    "vectors = []\n",
    "\n",
    "vectors.append(payloads['payload'].apply(lambda x: vectorize(x)))\n",
    "\n"
   ]
  },
  {
   "cell_type": "code",
   "execution_count": 11,
   "metadata": {},
   "outputs": [
    {
     "data": {
      "text/plain": [
       "147032    ({'p': 8, 'a': 3, 's': 10, 'w': 13, 'o': 7, 'r...\n174636                                    ({'0': 0}, [[1]])\n22870     ({'p': 8, 'a': 1, 's': 10, 'w': 12, 'o': 7, 'r...\n178390    ({'p': 11, 'r': 12, 'o': 10, 'v': 15, 'i': 7, ...\n207466    ({'b': 3, '1': 0, '=': 1, 'e': 4, 'n': 5, 't':...\n                                ...                        \n148108    ({'p': 7, 'r': 8, 'e': 4, 'c': 3, 'i': 5, 'o':...\n196833    ({'p': 7, 'r': 8, 'e': 4, 'c': 3, 'i': 5, 'o':...\n151477    ({'e': 8, 'm': 12, 'a': 5, 'i': 10, 'l': 11, '...\n124051    ({'n': 13, 'o': 14, 'm': 12, 'b': 6, 'r': 15, ...\n153850    ({'m': 5, 'o': 6, 'd': 1, '=': 0, 'r': 7, 'e':...\nName: payload, Length: 223585, dtype: object"
      ]
     },
     "execution_count": 11,
     "metadata": {},
     "output_type": "execute_result"
    }
   ],
   "source": [
    "vectors[0]"
   ]
  },
  {
   "cell_type": "code",
   "execution_count": null,
   "metadata": {},
   "outputs": [],
   "source": []
  }
 ],
 "metadata": {
  "kernelspec": {
   "display_name": "Python 2",
   "language": "python",
   "name": "python2"
  },
  "language_info": {
   "codemirror_mode": {
    "name": "ipython",
    "version": 2
   },
   "file_extension": ".py",
   "mimetype": "text/x-python",
   "name": "python",
   "nbconvert_exporter": "python",
   "pygments_lexer": "ipython2",
   "version": "2.7.6"
  }
 },
 "nbformat": 4,
 "nbformat_minor": 0
}
